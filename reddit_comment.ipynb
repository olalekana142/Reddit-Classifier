{
 "cells": [
  {
   "cell_type": "code",
   "execution_count": 1,
   "metadata": {
    "colab": {
     "base_uri": "https://localhost:8080/"
    },
    "id": "WClC-_PnjzoQ",
    "outputId": "0d4f700a-c790-4fcd-f1c8-58e4e8c1ec64"
   },
   "outputs": [],
   "source": [
    "#!pip install nltk#\\"
   ]
  },
  {
   "cell_type": "code",
   "execution_count": 6,
   "metadata": {
    "id": "y6sIKwP1Z8ov"
   },
   "outputs": [],
   "source": [
    "import numpy as np\n",
    "import pandas as pd\n",
    "import re\n",
    "import string\n",
    "import spacy\n",
    "from spacy.lang.en.stop_words import STOP_WORDS\n",
    "from spacy.lang.en import English\n",
    "import nltk\n",
    "from nltk.corpus import stopwords\n",
    "from sklearn.model_selection import train_test_split\n",
    "from sklearn.utils import resample\n",
    "from sklearn.utils import shuffle\n",
    "from sklearn.metrics import confusion_matrix,classification_report"
   ]
  },
  {
   "cell_type": "code",
   "execution_count": 3,
   "metadata": {},
   "outputs": [
    {
     "name": "stdout",
     "output_type": "stream",
     "text": [
      "Traceback (most recent call last):\n",
      "  File \"/usr/lib/python3/dist-packages/urllib3/connection.py\", line 174, in _new_conn\n",
      "    conn = connection.create_connection(\n",
      "  File \"/usr/lib/python3/dist-packages/urllib3/util/connection.py\", line 73, in create_connection\n",
      "    for res in socket.getaddrinfo(host, port, family, socket.SOCK_STREAM):\n",
      "  File \"/usr/lib/python3.10/socket.py\", line 955, in getaddrinfo\n",
      "    for res in _socket.getaddrinfo(host, port, family, type, proto, flags):\n",
      "socket.gaierror: [Errno -3] Temporary failure in name resolution\n",
      "\n",
      "During handling of the above exception, another exception occurred:\n",
      "\n",
      "Traceback (most recent call last):\n",
      "  File \"/usr/lib/python3/dist-packages/urllib3/connectionpool.py\", line 704, in urlopen\n",
      "    httplib_response = self._make_request(\n",
      "  File \"/usr/lib/python3/dist-packages/urllib3/connectionpool.py\", line 387, in _make_request\n",
      "    self._validate_conn(conn)\n",
      "  File \"/usr/lib/python3/dist-packages/urllib3/connectionpool.py\", line 1043, in _validate_conn\n",
      "    conn.connect()\n",
      "  File \"/usr/lib/python3/dist-packages/urllib3/connection.py\", line 358, in connect\n",
      "    self.sock = conn = self._new_conn()\n",
      "  File \"/usr/lib/python3/dist-packages/urllib3/connection.py\", line 186, in _new_conn\n",
      "    raise NewConnectionError(\n",
      "urllib3.exceptions.NewConnectionError: <urllib3.connection.HTTPSConnection object at 0x7f58032751b0>: Failed to establish a new connection: [Errno -3] Temporary failure in name resolution\n",
      "\n",
      "During handling of the above exception, another exception occurred:\n",
      "\n",
      "Traceback (most recent call last):\n",
      "  File \"/usr/lib/python3/dist-packages/requests/adapters.py\", line 440, in send\n",
      "    resp = conn.urlopen(\n",
      "  File \"/usr/lib/python3/dist-packages/urllib3/connectionpool.py\", line 786, in urlopen\n",
      "    retries = retries.increment(\n",
      "  File \"/usr/lib/python3/dist-packages/urllib3/util/retry.py\", line 592, in increment\n",
      "    raise MaxRetryError(_pool, url, error or ResponseError(cause))\n",
      "urllib3.exceptions.MaxRetryError: HTTPSConnectionPool(host='raw.githubusercontent.com', port=443): Max retries exceeded with url: /explosion/spacy-models/master/compatibility.json (Caused by NewConnectionError('<urllib3.connection.HTTPSConnection object at 0x7f58032751b0>: Failed to establish a new connection: [Errno -3] Temporary failure in name resolution'))\n",
      "\n",
      "During handling of the above exception, another exception occurred:\n",
      "\n",
      "Traceback (most recent call last):\n",
      "  File \"/usr/lib/python3.10/runpy.py\", line 196, in _run_module_as_main\n",
      "    return _run_code(code, main_globals, None,\n",
      "  File \"/usr/lib/python3.10/runpy.py\", line 86, in _run_code\n",
      "    exec(code, run_globals)\n",
      "  File \"/home/olalekan/.local/lib/python3.10/site-packages/spacy/__main__.py\", line 4, in <module>\n",
      "    setup_cli()\n",
      "  File \"/home/olalekan/.local/lib/python3.10/site-packages/spacy/cli/_util.py\", line 87, in setup_cli\n",
      "    command(prog_name=COMMAND)\n",
      "  File \"/usr/lib/python3/dist-packages/click/core.py\", line 1128, in __call__\n",
      "    return self.main(*args, **kwargs)\n",
      "  File \"/home/olalekan/.local/lib/python3.10/site-packages/typer/core.py\", line 778, in main\n",
      "    return _main(\n",
      "  File \"/home/olalekan/.local/lib/python3.10/site-packages/typer/core.py\", line 216, in _main\n",
      "    rv = self.invoke(ctx)\n",
      "  File \"/usr/lib/python3/dist-packages/click/core.py\", line 1659, in invoke\n",
      "    return _process_result(sub_ctx.command.invoke(sub_ctx))\n",
      "  File \"/usr/lib/python3/dist-packages/click/core.py\", line 1395, in invoke\n",
      "    return ctx.invoke(self.callback, **ctx.params)\n",
      "  File \"/usr/lib/python3/dist-packages/click/core.py\", line 754, in invoke\n",
      "    return __callback(*args, **kwargs)\n",
      "  File \"/home/olalekan/.local/lib/python3.10/site-packages/typer/main.py\", line 683, in wrapper\n",
      "    return callback(**use_params)  # type: ignore\n",
      "  File \"/home/olalekan/.local/lib/python3.10/site-packages/spacy/cli/download.py\", line 43, in download_cli\n",
      "    download(model, direct, sdist, *ctx.args)\n",
      "  File \"/home/olalekan/.local/lib/python3.10/site-packages/spacy/cli/download.py\", line 77, in download\n",
      "    compatibility = get_compatibility()\n",
      "  File \"/home/olalekan/.local/lib/python3.10/site-packages/spacy/cli/download.py\", line 122, in get_compatibility\n",
      "    r = requests.get(about.__compatibility__)\n",
      "  File \"/usr/lib/python3/dist-packages/requests/api.py\", line 75, in get\n",
      "    return request('get', url, params=params, **kwargs)\n",
      "  File \"/usr/lib/python3/dist-packages/requests/api.py\", line 61, in request\n",
      "    return session.request(method=method, url=url, **kwargs)\n",
      "  File \"/usr/lib/python3/dist-packages/requests/sessions.py\", line 531, in request\n",
      "    resp = self.send(prep, **send_kwargs)\n",
      "  File \"/usr/lib/python3/dist-packages/requests/sessions.py\", line 647, in send\n",
      "    r = adapter.send(request, **kwargs)\n",
      "  File \"/usr/lib/python3/dist-packages/requests/adapters.py\", line 519, in send\n",
      "    raise ConnectionError(e, request=request)\n",
      "requests.exceptions.ConnectionError: HTTPSConnectionPool(host='raw.githubusercontent.com', port=443): Max retries exceeded with url: /explosion/spacy-models/master/compatibility.json (Caused by NewConnectionError('<urllib3.connection.HTTPSConnection object at 0x7f58032751b0>: Failed to establish a new connection: [Errno -3] Temporary failure in name resolution'))\n"
     ]
    }
   ],
   "source": [
    "!python3 -m spacy download en_core_web_lg\n"
   ]
  },
  {
   "cell_type": "code",
   "execution_count": 7,
   "metadata": {
    "id": "JziNNM3-fJWb"
   },
   "outputs": [],
   "source": [
    "# Loading CSV file\n",
    "df_reddit = pd.read_csv(\"/home/olalekan/Documents/Reddit_comment/reddit_comments - reddit.csv\")"
   ]
  },
  {
   "cell_type": "code",
   "execution_count": 8,
   "metadata": {
    "colab": {
     "base_uri": "https://localhost:8080/",
     "height": 206
    },
    "id": "uI_djiTJ-Vk5",
    "outputId": "a76a5891-c1ea-4cfe-8ad7-d2ace4362961"
   },
   "outputs": [
    {
     "data": {
      "text/html": [
       "<div>\n",
       "<style scoped>\n",
       "    .dataframe tbody tr th:only-of-type {\n",
       "        vertical-align: middle;\n",
       "    }\n",
       "\n",
       "    .dataframe tbody tr th {\n",
       "        vertical-align: top;\n",
       "    }\n",
       "\n",
       "    .dataframe thead th {\n",
       "        text-align: right;\n",
       "    }\n",
       "</style>\n",
       "<table border=\"1\" class=\"dataframe\">\n",
       "  <thead>\n",
       "    <tr style=\"text-align: right;\">\n",
       "      <th></th>\n",
       "      <th>Reddit Comment</th>\n",
       "      <th>Label</th>\n",
       "      <th>label_num</th>\n",
       "    </tr>\n",
       "  </thead>\n",
       "  <tbody>\n",
       "    <tr>\n",
       "      <th>0</th>\n",
       "      <td>Absolutely appalled by this! I'm a surgeon, an...</td>\n",
       "      <td>Medical Doctor</td>\n",
       "      <td>0</td>\n",
       "    </tr>\n",
       "    <tr>\n",
       "      <th>1</th>\n",
       "      <td>Anatomy of great apes and humans is very simil...</td>\n",
       "      <td>Medical Doctor</td>\n",
       "      <td>0</td>\n",
       "    </tr>\n",
       "    <tr>\n",
       "      <th>2</th>\n",
       "      <td>Another frustration is that residency is absol...</td>\n",
       "      <td>Medical Doctor</td>\n",
       "      <td>0</td>\n",
       "    </tr>\n",
       "    <tr>\n",
       "      <th>3</th>\n",
       "      <td>As a neurologist, I know the importance of a h...</td>\n",
       "      <td>Medical Doctor</td>\n",
       "      <td>0</td>\n",
       "    </tr>\n",
       "    <tr>\n",
       "      <th>4</th>\n",
       "      <td>As a practicing allergist, I understand the ch...</td>\n",
       "      <td>Medical Doctor</td>\n",
       "      <td>0</td>\n",
       "    </tr>\n",
       "  </tbody>\n",
       "</table>\n",
       "</div>"
      ],
      "text/plain": [
       "                                      Reddit Comment           Label  \\\n",
       "0  Absolutely appalled by this! I'm a surgeon, an...  Medical Doctor   \n",
       "1  Anatomy of great apes and humans is very simil...  Medical Doctor   \n",
       "2  Another frustration is that residency is absol...  Medical Doctor   \n",
       "3  As a neurologist, I know the importance of a h...  Medical Doctor   \n",
       "4  As a practicing allergist, I understand the ch...  Medical Doctor   \n",
       "\n",
       "   label_num  \n",
       "0          0  \n",
       "1          0  \n",
       "2          0  \n",
       "3          0  \n",
       "4          0  "
      ]
     },
     "execution_count": 8,
     "metadata": {},
     "output_type": "execute_result"
    }
   ],
   "source": [
    "#Add the new column which gives a unique number to each of these labels\n",
    "df_reddit['label_num'] = df_reddit['Label'].map({'Medical Doctor' : 0, 'Veterinarian':1,'Other':2})\n",
    "\n",
    "#check the results with top 5 rows\n",
    "df_reddit.head(5)"
   ]
  },
  {
   "cell_type": "code",
   "execution_count": 9,
   "metadata": {
    "colab": {
     "base_uri": "https://localhost:8080/"
    },
    "id": "xFqZKEUqkNFn",
    "outputId": "05d44ec1-8a7f-4405-9605-d7672197f20b"
   },
   "outputs": [
    {
     "data": {
      "text/plain": [
       "Label\n",
       "Other             433\n",
       "Medical Doctor    154\n",
       "Veterinarian      128\n",
       "Name: count, dtype: int64"
      ]
     },
     "execution_count": 9,
     "metadata": {},
     "output_type": "execute_result"
    }
   ],
   "source": [
    "df_reddit.Label.value_counts()"
   ]
  },
  {
   "cell_type": "code",
   "execution_count": 10,
   "metadata": {
    "colab": {
     "base_uri": "https://localhost:8080/",
     "height": 430
    },
    "id": "dSEHwrsX-hBd",
    "outputId": "7a21de08-74b8-4702-fbb5-4e8bf535d724"
   },
   "outputs": [
    {
     "data": {
      "image/png": "[encoded data removed]",
      "text/plain": [
       "<Figure size 640x480 with 1 Axes>"
      ]
     },
     "metadata": {},
     "output_type": "display_data"
    }
   ],
   "source": [
    "# @title Label\n",
    "\n",
    "from matplotlib import pyplot as plt\n",
    "import seaborn as sns\n",
    "df_reddit.groupby('Label').size().plot(kind='barh', color=sns.palettes.mpl_palette('Dark2'))\n",
    "plt.gca().spines[['top', 'right',]].set_visible(False)"
   ]
  },
  {
   "cell_type": "code",
   "execution_count": 11,
   "metadata": {
    "id": "_RcUZBoRfKEu"
   },
   "outputs": [],
   "source": [
    "\n",
    "REPLACE_BY_SPACE_RE = re.compile('[/(){}\\[\\]\\|@,;]')\n",
    "BAD_SYMBOLS_RE = re.compile('[^0-9a-z #+_]')\n",
    "STOPWORDS = set(stopwords.words('english'))\n",
    "\n",
    "def clean_text(text):\n",
    "    \"\"\"\n",
    "    Clean and pre-process text data.\n",
    "\n",
    "    Args:\n",
    "        text (str): The text to be cleaned.\n",
    "\n",
    "    Returns:\n",
    "        str: The cleaned text.\n",
    "    \"\"\"\n",
    "\n",
    "    text = text.lower()  # Lowercase text\n",
    "    text = REPLACE_BY_SPACE_RE.sub(' ', text)  # Replace special symbols with spaces\n",
    "    text = BAD_SYMBOLS_RE.sub('', text)  # Remove non-alphanumeric characters (except #, +, _)\n",
    "    text = text.replace('x', '')  # Remove any remaining 'x' characters (optional)\n",
    "\n",
    "\n",
    "    return text\n",
    "\n",
    "# Apply cleaning function to the 'Reddit Comment' column\n",
    "df_reddit['Cleaned Comment'] = df_reddit['Reddit Comment'].apply(clean_text)"
   ]
  },
  {
   "cell_type": "code",
   "execution_count": 12,
   "metadata": {
    "colab": {
     "base_uri": "https://localhost:8080/",
     "height": 293
    },
    "id": "I-ZFuG1kh__4",
    "outputId": "2b50ea7c-d7ea-4d75-c2a1-a2d0c2146660"
   },
   "outputs": [
    {
     "data": {
      "text/html": [
       "<div>\n",
       "<style scoped>\n",
       "    .dataframe tbody tr th:only-of-type {\n",
       "        vertical-align: middle;\n",
       "    }\n",
       "\n",
       "    .dataframe tbody tr th {\n",
       "        vertical-align: top;\n",
       "    }\n",
       "\n",
       "    .dataframe thead th {\n",
       "        text-align: right;\n",
       "    }\n",
       "</style>\n",
       "<table border=\"1\" class=\"dataframe\">\n",
       "  <thead>\n",
       "    <tr style=\"text-align: right;\">\n",
       "      <th></th>\n",
       "      <th>Reddit Comment</th>\n",
       "      <th>Label</th>\n",
       "      <th>label_num</th>\n",
       "      <th>Cleaned Comment</th>\n",
       "    </tr>\n",
       "  </thead>\n",
       "  <tbody>\n",
       "    <tr>\n",
       "      <th>0</th>\n",
       "      <td>Absolutely appalled by this! I'm a surgeon, an...</td>\n",
       "      <td>Medical Doctor</td>\n",
       "      <td>0</td>\n",
       "      <td>absolutely appalled by this im a surgeon  and ...</td>\n",
       "    </tr>\n",
       "    <tr>\n",
       "      <th>1</th>\n",
       "      <td>Anatomy of great apes and humans is very simil...</td>\n",
       "      <td>Medical Doctor</td>\n",
       "      <td>0</td>\n",
       "      <td>anatomy of great apes and humans is very simil...</td>\n",
       "    </tr>\n",
       "    <tr>\n",
       "      <th>2</th>\n",
       "      <td>Another frustration is that residency is absol...</td>\n",
       "      <td>Medical Doctor</td>\n",
       "      <td>0</td>\n",
       "      <td>another frustration is that residency is absol...</td>\n",
       "    </tr>\n",
       "    <tr>\n",
       "      <th>3</th>\n",
       "      <td>As a neurologist, I know the importance of a h...</td>\n",
       "      <td>Medical Doctor</td>\n",
       "      <td>0</td>\n",
       "      <td>as a neurologist  i know the importance of a h...</td>\n",
       "    </tr>\n",
       "    <tr>\n",
       "      <th>4</th>\n",
       "      <td>As a practicing allergist, I understand the ch...</td>\n",
       "      <td>Medical Doctor</td>\n",
       "      <td>0</td>\n",
       "      <td>as a practicing allergist  i understand the ch...</td>\n",
       "    </tr>\n",
       "  </tbody>\n",
       "</table>\n",
       "</div>"
      ],
      "text/plain": [
       "                                      Reddit Comment           Label  \\\n",
       "0  Absolutely appalled by this! I'm a surgeon, an...  Medical Doctor   \n",
       "1  Anatomy of great apes and humans is very simil...  Medical Doctor   \n",
       "2  Another frustration is that residency is absol...  Medical Doctor   \n",
       "3  As a neurologist, I know the importance of a h...  Medical Doctor   \n",
       "4  As a practicing allergist, I understand the ch...  Medical Doctor   \n",
       "\n",
       "   label_num                                    Cleaned Comment  \n",
       "0          0  absolutely appalled by this im a surgeon  and ...  \n",
       "1          0  anatomy of great apes and humans is very simil...  \n",
       "2          0  another frustration is that residency is absol...  \n",
       "3          0  as a neurologist  i know the importance of a h...  \n",
       "4          0  as a practicing allergist  i understand the ch...  "
      ]
     },
     "execution_count": 12,
     "metadata": {},
     "output_type": "execute_result"
    }
   ],
   "source": [
    "# Top 5 records\n",
    "df_reddit.head()"
   ]
  },
  {
   "cell_type": "code",
   "execution_count": 13,
   "metadata": {
    "id": "tlaXzuLqtyjv"
   },
   "outputs": [],
   "source": [
    "# Create our list of stopwords\n",
    "stop_words = set(stopwords.words('english'))\n",
    "\n",
    "def preprocess_text(text):\n",
    "    \"\"\"\n",
    "    Preprocess text data by removing punctuation, lemmatizing, and removing stopwords.\n",
    "\n",
    "    Args:\n",
    "        text (str): The text to be preprocessed.\n",
    "\n",
    "    Returns:\n",
    "        str: The preprocessed text.\n",
    "    \"\"\"\n",
    "\n",
    "    # Load English tokenizer, tagger, parser, NER and word vectors\n",
    "    parser = English()\n",
    "    tokens = []\n",
    "\n",
    "    # Tokenize the text and remove punctuation\n",
    "    for token in parser(text):\n",
    "        if token.is_alpha:\n",
    "            tokens.append(token.lemma_.lower())\n",
    "\n",
    "    # Remove stopwords\n",
    "    cleaned_tokens = [token for token in tokens if token not in stop_words]\n",
    "\n",
    "    return \" \".join(cleaned_tokens)\n",
    "\n",
    "\n",
    "# Apply preprocessing function to the 'Cleaned Comment' column\n",
    "df_reddit['processed_text'] = df_reddit['Cleaned Comment'].apply(preprocess_text)"
   ]
  },
  {
   "cell_type": "code",
   "execution_count": 14,
   "metadata": {},
   "outputs": [],
   "source": [
    "# Load the spaCy model with embeddings\n",
    "nlp = spacy.load(\"en_core_web_lg\")\n",
    "\n",
    "def process_and_embed_data(data):\n",
    "    \"\"\"\n",
    "    Process and embed the comments in the given dataset.\n",
    "\n",
    "    Args:\n",
    "        data (pd.Series): Series containing the comments to be processed and embedded.\n",
    "\n",
    "    Returns:\n",
    "        np.ndarray: Embedded dataset.\n",
    "    \"\"\"\n",
    "\n",
    "    embedded_dataset = [nlp(comment).vector for comment in data]\n",
    "    embedded_dataset = np.array(embedded_dataset)\n",
    "\n",
    "    return embedded_dataset\n",
    "\n",
    "\n"
   ]
  },
  {
   "cell_type": "code",
   "execution_count": 23,
   "metadata": {},
   "outputs": [],
   "source": [
    "# Process and embed the comments in the test set\n",
    "embedded_dataset= process_and_embed_data(df_reddit['processed_text'])\n",
    "labels = df_reddit['label_num']\n",
    "train_data,test_data,train_labels,test_labels= train_test_split(embedded_dataset,labels, test_size=0.2, stratify=labels)\n"
   ]
  },
  {
   "cell_type": "code",
   "execution_count": 27,
   "metadata": {},
   "outputs": [
    {
     "data": {
      "text/plain": [
       "array([[0., 0., 0., ..., 0., 0., 0.],\n",
       "       [0., 0., 0., ..., 0., 0., 0.],\n",
       "       [0., 0., 0., ..., 0., 0., 0.],\n",
       "       ...,\n",
       "       [0., 0., 0., ..., 0., 0., 0.],\n",
       "       [0., 0., 0., ..., 0., 0., 0.],\n",
       "       [0., 0., 0., ..., 0., 0., 0.]], dtype=float32)"
      ]
     },
     "execution_count": 27,
     "metadata": {},
     "output_type": "execute_result"
    }
   ],
   "source": [
    "embedded_dataset"
   ]
  },
  {
   "cell_type": "code",
   "execution_count": 25,
   "metadata": {
    "colab": {
     "background_save": true,
     "base_uri": "https://localhost:8080/"
    },
    "id": "YfpNksKE8TM2",
    "outputId": "121b6f10-9e8d-4efc-e6eb-4de36fbd8e62"
   },
   "outputs": [
    {
     "name": "stdout",
     "output_type": "stream",
     "text": [
      "              precision    recall  f1-score   support\n",
      "\n",
      "           0       0.00      0.00      0.00        31\n",
      "           1       0.00      0.00      0.00        25\n",
      "           2       0.61      1.00      0.76        87\n",
      "\n",
      "    accuracy                           0.61       143\n",
      "   macro avg       0.20      0.33      0.25       143\n",
      "weighted avg       0.37      0.61      0.46       143\n",
      "\n"
     ]
    },
    {
     "name": "stderr",
     "output_type": "stream",
     "text": [
      "/home/olalekan/.local/lib/python3.10/site-packages/sklearn/metrics/_classification.py:1469: UndefinedMetricWarning: Precision and F-score are ill-defined and being set to 0.0 in labels with no predicted samples. Use `zero_division` parameter to control this behavior.\n",
      "  _warn_prf(average, modifier, msg_start, len(result))\n",
      "/home/olalekan/.local/lib/python3.10/site-packages/sklearn/metrics/_classification.py:1469: UndefinedMetricWarning: Precision and F-score are ill-defined and being set to 0.0 in labels with no predicted samples. Use `zero_division` parameter to control this behavior.\n",
      "  _warn_prf(average, modifier, msg_start, len(result))\n",
      "/home/olalekan/.local/lib/python3.10/site-packages/sklearn/metrics/_classification.py:1469: UndefinedMetricWarning: Precision and F-score are ill-defined and being set to 0.0 in labels with no predicted samples. Use `zero_division` parameter to control this behavior.\n",
      "  _warn_prf(average, modifier, msg_start, len(result))\n"
     ]
    }
   ],
   "source": [
    "# Train the RandomForestClassifier with class weights\n",
    "from sklearn.ensemble import RandomForestClassifier\n",
    "clf = RandomForestClassifier(random_state=42)\n",
    "clf.fit(train_data,  train_labels)\n",
    "\n",
    "# Evaluate the model\n",
    "y_pred = clf.predict(test_data)\n",
    "print(classification_report(test_labels, y_pred))"
   ]
  },
  {
   "cell_type": "markdown",
   "metadata": {
    "id": "mjwdt2qh4sKz"
   },
   "source": [
    "##  Predicting New data"
   ]
  },
  {
   "cell_type": "code",
   "execution_count": null,
   "metadata": {
    "id": "zopOGfEyn38P"
   },
   "outputs": [],
   "source": [
    "# Loading CSV file\n",
    "new_data = pd.read_csv(\"/content/test - Sheet1 .csv\")"
   ]
  },
  {
   "cell_type": "code",
   "execution_count": null,
   "metadata": {
    "id": "h2v487km7MX_"
   },
   "outputs": [],
   "source": [
    "new_data['Cleaned Comment'] = new_data['Reddit Comment'].apply(clean_text)"
   ]
  },
  {
   "cell_type": "code",
   "execution_count": null,
   "metadata": {
    "id": "F4ychAjd8dKg"
   },
   "outputs": [],
   "source": [
    "new_data['processed_text'] = new_data['Cleaned Comment'].apply(preprocess_text)\n"
   ]
  },
  {
   "cell_type": "code",
   "execution_count": null,
   "metadata": {
    "colab": {
     "background_save": true
    },
    "id": "h0DA6rpCMNSE"
   },
   "outputs": [],
   "source": [
    "embedded_new_test_data, new_test_labels = process_and_embed_data(new_data['processed_text'], new_data['label_num'])\n"
   ]
  }
 ],
 "metadata": {
  "accelerator": "TPU",
  "colab": {
   "provenance": []
  },
  "kernelspec": {
   "display_name": "Python 3 (ipykernel)",
   "language": "python",
   "name": "python3"
  },
  "language_info": {
   "codemirror_mode": {
    "name": "ipython",
    "version": 3
   },
   "file_extension": ".py",
   "mimetype": "text/x-python",
   "name": "python",
   "nbconvert_exporter": "python",
   "pygments_lexer": "ipython3",
   "version": "3.10.7"
  }
 },
 "nbformat": 4,
 "nbformat_minor": 1
}
